{
 "cells": [
  {
   "cell_type": "markdown",
   "metadata": {},
   "source": [
    "# Queimadas no Pantanal: uma análise exploratória dos últimos 10 anos\n",
    "Este notebook tem como objetivo armazenar e organizar os códigos utilizados para a geração dos relatórios e visualizações utilizados no artigo Queimadas no Pantanal: uma análise exploratória dos últimos 10 anos produzido na disciplina de Fundamentos de Ciência de Dados do PPGI-UFRJ."
   ]
  },
  {
   "cell_type": "markdown",
   "metadata": {},
   "source": [
    "## 1. Apresentação do problema"
   ]
  },
  {
   "cell_type": "markdown",
   "metadata": {},
   "source": [
    "### 1.1 Escolha do dataset"
   ]
  },
  {
   "cell_type": "markdown",
   "metadata": {},
   "source": [
    "## 2. Coleta e análise de dados"
   ]
  },
  {
   "cell_type": "markdown",
   "metadata": {},
   "source": [
    "### 2.1 Bibliotecas e principais códigos para a organização do ambiente do projeto"
   ]
  },
  {
   "cell_type": "code",
   "execution_count": 3,
   "metadata": {},
   "outputs": [
    {
     "name": "stdout",
     "output_type": "stream",
     "text": [
      "Note: you may need to restart the kernel to use updated packages.\n"
     ]
    },
    {
     "name": "stderr",
     "output_type": "stream",
     "text": [
      "ERROR: Invalid requirement: 'anyio=3.5.0=py310haa95532_0' (from line 4 of requirements.txt)\n",
      "Hint: = is not a valid operator. Did you mean == ?\n"
     ]
    }
   ],
   "source": [
    "# Instalação dos requerimentos para o projeto\n",
    "%pip install -r requirements.txt"
   ]
  },
  {
   "cell_type": "code",
   "execution_count": 8,
   "metadata": {},
   "outputs": [],
   "source": [
    "# Importação das bibliotecas necessárias para o projeto\n",
    "import pandas as pd\n",
    "import geopandas as gpd\n",
    "import numpy as np\n",
    "import matplotlib.pyplot as plt\n",
    "import seaborn as sns\n",
    "import warnings\n",
    "import os\n",
    "import datetime\n",
    "warnings.filterwarnings('ignore')\n",
    "%matplotlib inline"
   ]
  },
  {
   "cell_type": "markdown",
   "metadata": {},
   "source": [
    "### 2.2 Carregamento das fontes de dados do projeto"
   ]
  },
  {
   "cell_type": "code",
   "execution_count": 17,
   "metadata": {},
   "outputs": [],
   "source": [
    "# Datasets de entrada do projeto\n",
    "df2012 = gpd.read_file('Data_Lasa_12_20/alarmes_hist_2012_pantanal.shp')\n",
    "df2013 = gpd.read_file('Data_Lasa_12_20/alarmes_hist_2013_pantanal.shp')\n",
    "df2014 = gpd.read_file('Data_Lasa_12_20/alarmes_hist_2014_pantanal.shp')\n",
    "df2015 = gpd.read_file('Data_Lasa_12_20/alarmes_hist_2015_pantanal.shp')\n",
    "df2016 = gpd.read_file('Data_Lasa_12_20/alarmes_hist_2016_pantanal.shp')\n",
    "df2017 = gpd.read_file('Data_Lasa_12_20/alarmes_hist_2017_pantanal.shp')\n",
    "df2018 = gpd.read_file('Data_Lasa_12_20/alarmes_hist_2018_pantanal.shp')\n",
    "df2019 = gpd.read_file('Data_Lasa_12_20/alarmes_hist_2019_pantanal.shp')\n",
    "df2020 = gpd.read_file('Data_Lasa_12_20/alarmes_hist_2020_pantanal.shp')"
   ]
  },
  {
   "cell_type": "code",
   "execution_count": 21,
   "metadata": {},
   "outputs": [
    {
     "name": "stdout",
     "output_type": "stream",
     "text": [
      "Tamanho do dataset de 2012: (35138, 6)\n",
      "Tamanho do dataset de 2013: (25297, 6)\n",
      "Tamanho do dataset de 2014: (13125, 6)\n",
      "Tamanho do dataset de 2015: (25121, 6)\n",
      "Tamanho do dataset de 2016: (37822, 6)\n",
      "Tamanho do dataset de 2017: (35230, 6)\n",
      "Tamanho do dataset de 2018: (9026, 6)\n",
      "Tamanho do dataset de 2019: (60313, 6)\n",
      "Tamanho do dataset de 2020: (98960, 6)\n"
     ]
    }
   ],
   "source": [
    "# Tamanho dos datasets\n",
    "for i in range(2012,2021):\n",
    "    print('Tamanho do dataset de {}: {}'.format(i, eval('df{}'.format(i)).shape))"
   ]
  },
  {
   "cell_type": "code",
   "execution_count": 22,
   "metadata": {},
   "outputs": [
    {
     "name": "stdout",
     "output_type": "stream",
     "text": [
      "Tamanho do dataset concatenado: (340032, 6)\n"
     ]
    }
   ],
   "source": [
    "# Concatenação dos datasets\n",
    "df = pd.concat([df2012, df2013, df2014, df2015, df2016, df2017, df2018, df2019, df2020], ignore_index=True)\n",
    "df.head()\n",
    "print('Tamanho do dataset concatenado: {}'.format(df.shape))"
   ]
  },
  {
   "cell_type": "markdown",
   "metadata": {},
   "source": [
    "## Análise Exploratória dos dados"
   ]
  },
  {
   "cell_type": "code",
   "execution_count": null,
   "metadata": {},
   "outputs": [],
   "source": []
  }
 ],
 "metadata": {
  "kernelspec": {
   "display_name": "Python 3.10.4 ('queimadas_env')",
   "language": "python",
   "name": "python3"
  },
  "language_info": {
   "codemirror_mode": {
    "name": "ipython",
    "version": 3
   },
   "file_extension": ".py",
   "mimetype": "text/x-python",
   "name": "python",
   "nbconvert_exporter": "python",
   "pygments_lexer": "ipython3",
   "version": "3.10.4"
  },
  "orig_nbformat": 4,
  "vscode": {
   "interpreter": {
    "hash": "6c36144c33cac9968769de54b546bfba8d980e7805d8670073d4a5ddcb8ab56d"
   }
  }
 },
 "nbformat": 4,
 "nbformat_minor": 2
}
