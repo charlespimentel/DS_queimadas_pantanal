{
 "cells": [
  {
   "cell_type": "markdown",
   "metadata": {},
   "source": [
    "# Queimadas no Pantanal: uma análise exploratória dos últimos 10 anos\n",
    "Este notebook tem como objetivo armazenar e organizar os códigos utilizados para a geração dos relatórios e visualizações utilizados no artigo Queimadas no Pantanal: uma análise exploratória dos últimos 10 anos produzido na disciplina de Fundamentos de Ciência de Dados do PPGI-UFRJ."
   ]
  },
  {
   "cell_type": "markdown",
   "metadata": {},
   "source": [
    "## 1. Apresentação do problema"
   ]
  },
  {
   "cell_type": "markdown",
   "metadata": {},
   "source": [
    "### 1.1 Escolha do dataset\n",
    "O dataset foi provido pelo LASA, Laboratório de Aplicações de Satélites Ambientais do Departamento de Meteorologia da UFRJ, que tem suas atividades voltadas ao ensino e à pesquisa de técnicas de sensoriamento remoto aplicadas ao monitoramento da atmosfera e superfície terrestre. A iniciativa ALARMES foi desenvolvida para servir como ferramenta de alerta rápido e ágil sobre o avanço da extensão da área afetada pelo fogo de forma a apoiar os órgãos ambientais nas ações de combate ao fogo. O sistema combina imagens de satélites da NASA, focos de calor e inteligência artificial para identificar novas áreas atingidas pelo fogo, monitorando diariamente a localização e extensão das áreas queimadas, permitindo, por exemplo, entender a velocidade de aumento dessas áreas afetadas. Essas informações são enviadas aos órgãos competentes para o planejamento e a realizações de ações efetivas. Neste concexto foi escolhido o bioma Pantanal para objeto de estudo, tendo em vista sua grande importância para o suprimento de água, a estabilização do clima e a conservação do solo no país.\n",
    "\n",
    "\n"
   ]
  },
  {
   "cell_type": "markdown",
   "metadata": {},
   "source": [
    "### 1.2 Descrição do dataset"
   ]
  },
  {
   "cell_type": "markdown",
   "metadata": {},
   "source": [
    "O Dataset utilizado foi disponibilizado em diversos formatos (.shp, .tif, .dbf, .prj, .shx), particulares ao universo de dados geoespaciais, e contém informações sobre as queimadas no bioma Pantanal, sendo elas: geometria(latitude, longitude), confiança, versão, dia juliano, mês e ano da área afetada. O dataset, após concatenações, possui 340.032 mil linhas e 6 colunas."
   ]
  },
  {
   "cell_type": "markdown",
   "metadata": {},
   "source": [
    "## 2. Coleta de dados"
   ]
  },
  {
   "cell_type": "markdown",
   "metadata": {},
   "source": [
    "### 2.1 Bibliotecas e principais códigos para a organização do ambiente do projeto"
   ]
  },
  {
   "cell_type": "code",
   "execution_count": 2,
   "metadata": {},
   "outputs": [
    {
     "name": "stdout",
     "output_type": "stream",
     "text": [
      "Note: you may need to restart the kernel to use updated packages.\n"
     ]
    },
    {
     "name": "stderr",
     "output_type": "stream",
     "text": [
      "ERROR: Invalid requirement: 'anyio=3.5.0=py310haa95532_0' (from line 4 of requirements.txt)\n",
      "Hint: = is not a valid operator. Did you mean == ?\n"
     ]
    }
   ],
   "source": [
    "# Instalação dos requerimentos para o projeto\n",
    "%pip install -r requirements.txt"
   ]
  },
  {
   "cell_type": "code",
   "execution_count": 5,
   "metadata": {},
   "outputs": [],
   "source": [
    "# Importação das bibliotecas necessárias para o projeto\n",
    "import pandas as pd\n",
    "import geopandas as gpd\n",
    "import numpy as np\n",
    "import matplotlib.pyplot as plt\n",
    "import seaborn as sns\n",
    "import warnings\n",
    "import os\n",
    "import datetime\n",
    "#warnings.filterwarnings('ignore')\n",
    "%matplotlib inline"
   ]
  },
  {
   "cell_type": "markdown",
   "metadata": {},
   "source": [
    "### 2.2 Carregamento das fontes de dados do projeto"
   ]
  },
  {
   "cell_type": "code",
   "execution_count": null,
   "metadata": {},
   "outputs": [],
   "source": [
    "# Datasets de entrada do projeto\n",
    "df2012 = gpd.read_file('Data_Lasa_12_20/alarmes_hist_2012_pantanal.shp')\n",
    "df2013 = gpd.read_file('Data_Lasa_12_20/alarmes_hist_2013_pantanal.shp')\n",
    "df2014 = gpd.read_file('Data_Lasa_12_20/alarmes_hist_2014_pantanal.shp')\n",
    "df2015 = gpd.read_file('Data_Lasa_12_20/alarmes_hist_2015_pantanal.shp')\n",
    "df2016 = gpd.read_file('Data_Lasa_12_20/alarmes_hist_2016_pantanal.shp')\n",
    "df2017 = gpd.read_file('Data_Lasa_12_20/alarmes_hist_2017_pantanal.shp')\n",
    "df2018 = gpd.read_file('Data_Lasa_12_20/alarmes_hist_2018_pantanal.shp')\n",
    "df2019 = gpd.read_file('Data_Lasa_12_20/alarmes_hist_2019_pantanal.shp')\n",
    "df2020 = gpd.read_file('Data_Lasa_12_20/alarmes_hist_2020_pantanal.shp')"
   ]
  },
  {
   "cell_type": "code",
   "execution_count": null,
   "metadata": {},
   "outputs": [
    {
     "name": "stdout",
     "output_type": "stream",
     "text": [
      "Tamanho do dataset de 2012: (35138, 6)\n",
      "Tamanho do dataset de 2013: (25297, 6)\n",
      "Tamanho do dataset de 2014: (13125, 6)\n",
      "Tamanho do dataset de 2015: (25121, 6)\n",
      "Tamanho do dataset de 2016: (37822, 6)\n",
      "Tamanho do dataset de 2017: (35230, 6)\n",
      "Tamanho do dataset de 2018: (9026, 6)\n",
      "Tamanho do dataset de 2019: (60313, 6)\n",
      "Tamanho do dataset de 2020: (98960, 6)\n"
     ]
    }
   ],
   "source": [
    "# Tamanho dos datasets\n",
    "for i in range(2012,2021):\n",
    "    print('Tamanho do dataset de {}: {}'.format(i, eval('df{}'.format(i)).shape))"
   ]
  },
  {
   "cell_type": "code",
   "execution_count": null,
   "metadata": {},
   "outputs": [
    {
     "name": "stdout",
     "output_type": "stream",
     "text": [
      "Tamanho do dataset concatenado: (340032, 6)\n"
     ]
    }
   ],
   "source": [
    "# Concatenação dos datasets\n",
    "df = pd.concat([df2012, df2013, df2014, df2015, df2016, df2017, df2018, df2019, df2020], ignore_index=True)\n",
    "df.head()\n",
    "print('Tamanho do dataset concatenado: {}'.format(df.shape))"
   ]
  },
  {
   "cell_type": "markdown",
   "metadata": {},
   "source": [
    "## 3. Análise Exploratória dos dados"
   ]
  },
  {
   "cell_type": "markdown",
   "metadata": {},
   "source": [
    "### 3.1 Informações gerais do dataset\n",
    "Principais informações sobre o dataset, como quantidade de linhas, colunas, tipos de dados, valores nulos, entre outros."
   ]
  },
  {
   "cell_type": "code",
   "execution_count": null,
   "metadata": {},
   "outputs": [
    {
     "data": {
      "text/html": [
       "<div>\n",
       "<style scoped>\n",
       "    .dataframe tbody tr th:only-of-type {\n",
       "        vertical-align: middle;\n",
       "    }\n",
       "\n",
       "    .dataframe tbody tr th {\n",
       "        vertical-align: top;\n",
       "    }\n",
       "\n",
       "    .dataframe thead th {\n",
       "        text-align: right;\n",
       "    }\n",
       "</style>\n",
       "<table border=\"1\" class=\"dataframe\">\n",
       "  <thead>\n",
       "    <tr style=\"text-align: right;\">\n",
       "      <th></th>\n",
       "      <th>DiaJuliano</th>\n",
       "      <th>Mes</th>\n",
       "      <th>Ano</th>\n",
       "      <th>Versao</th>\n",
       "      <th>NivConf</th>\n",
       "      <th>geometry</th>\n",
       "    </tr>\n",
       "  </thead>\n",
       "  <tbody>\n",
       "    <tr>\n",
       "      <th>count</th>\n",
       "      <td>340032.00</td>\n",
       "      <td>340032</td>\n",
       "      <td>340032.00</td>\n",
       "      <td>340032</td>\n",
       "      <td>340032.00</td>\n",
       "      <td>340032</td>\n",
       "    </tr>\n",
       "    <tr>\n",
       "      <th>unique</th>\n",
       "      <td>NaN</td>\n",
       "      <td>12</td>\n",
       "      <td>NaN</td>\n",
       "      <td>1</td>\n",
       "      <td>NaN</td>\n",
       "      <td>317393</td>\n",
       "    </tr>\n",
       "    <tr>\n",
       "      <th>top</th>\n",
       "      <td>NaN</td>\n",
       "      <td>09</td>\n",
       "      <td>NaN</td>\n",
       "      <td>Alarmes-Histórico</td>\n",
       "      <td>NaN</td>\n",
       "      <td>POLYGON ((-55.85500000014986 -16.2199999995003...</td>\n",
       "    </tr>\n",
       "    <tr>\n",
       "      <th>freq</th>\n",
       "      <td>NaN</td>\n",
       "      <td>126202</td>\n",
       "      <td>NaN</td>\n",
       "      <td>340032</td>\n",
       "      <td>NaN</td>\n",
       "      <td>4</td>\n",
       "    </tr>\n",
       "    <tr>\n",
       "      <th>mean</th>\n",
       "      <td>244.63</td>\n",
       "      <td>NaN</td>\n",
       "      <td>2017.07</td>\n",
       "      <td>NaN</td>\n",
       "      <td>0.71</td>\n",
       "      <td>NaN</td>\n",
       "    </tr>\n",
       "    <tr>\n",
       "      <th>std</th>\n",
       "      <td>63.49</td>\n",
       "      <td>NaN</td>\n",
       "      <td>2.81</td>\n",
       "      <td>NaN</td>\n",
       "      <td>0.22</td>\n",
       "      <td>NaN</td>\n",
       "    </tr>\n",
       "    <tr>\n",
       "      <th>min</th>\n",
       "      <td>1.00</td>\n",
       "      <td>NaN</td>\n",
       "      <td>2012.00</td>\n",
       "      <td>NaN</td>\n",
       "      <td>0.30</td>\n",
       "      <td>NaN</td>\n",
       "    </tr>\n",
       "    <tr>\n",
       "      <th>25%</th>\n",
       "      <td>230.00</td>\n",
       "      <td>NaN</td>\n",
       "      <td>2015.00</td>\n",
       "      <td>NaN</td>\n",
       "      <td>0.53</td>\n",
       "      <td>NaN</td>\n",
       "    </tr>\n",
       "    <tr>\n",
       "      <th>50%</th>\n",
       "      <td>255.00</td>\n",
       "      <td>NaN</td>\n",
       "      <td>2017.00</td>\n",
       "      <td>NaN</td>\n",
       "      <td>0.75</td>\n",
       "      <td>NaN</td>\n",
       "    </tr>\n",
       "    <tr>\n",
       "      <th>75%</th>\n",
       "      <td>277.00</td>\n",
       "      <td>NaN</td>\n",
       "      <td>2020.00</td>\n",
       "      <td>NaN</td>\n",
       "      <td>0.91</td>\n",
       "      <td>NaN</td>\n",
       "    </tr>\n",
       "    <tr>\n",
       "      <th>max</th>\n",
       "      <td>366.00</td>\n",
       "      <td>NaN</td>\n",
       "      <td>2020.00</td>\n",
       "      <td>NaN</td>\n",
       "      <td>1.00</td>\n",
       "      <td>NaN</td>\n",
       "    </tr>\n",
       "  </tbody>\n",
       "</table>\n",
       "</div>"
      ],
      "text/plain": [
       "        DiaJuliano     Mes        Ano             Versao    NivConf  \\\n",
       "count    340032.00  340032  340032.00             340032  340032.00   \n",
       "unique         NaN      12        NaN                  1        NaN   \n",
       "top            NaN      09        NaN  Alarmes-Histórico        NaN   \n",
       "freq           NaN  126202        NaN             340032        NaN   \n",
       "mean        244.63     NaN    2017.07                NaN       0.71   \n",
       "std          63.49     NaN       2.81                NaN       0.22   \n",
       "min           1.00     NaN    2012.00                NaN       0.30   \n",
       "25%         230.00     NaN    2015.00                NaN       0.53   \n",
       "50%         255.00     NaN    2017.00                NaN       0.75   \n",
       "75%         277.00     NaN    2020.00                NaN       0.91   \n",
       "max         366.00     NaN    2020.00                NaN       1.00   \n",
       "\n",
       "                                                 geometry  \n",
       "count                                              340032  \n",
       "unique                                             317393  \n",
       "top     POLYGON ((-55.85500000014986 -16.2199999995003...  \n",
       "freq                                                    4  \n",
       "mean                                                  NaN  \n",
       "std                                                   NaN  \n",
       "min                                                   NaN  \n",
       "25%                                                   NaN  \n",
       "50%                                                   NaN  \n",
       "75%                                                   NaN  \n",
       "max                                                   NaN  "
      ]
     },
     "execution_count": 27,
     "metadata": {},
     "output_type": "execute_result"
    }
   ],
   "source": [
    "# Estatísticas descritivas completas \n",
    "df.describe(include='all').round(2)"
   ]
  },
  {
   "cell_type": "code",
   "execution_count": null,
   "metadata": {},
   "outputs": [
    {
     "data": {
      "text/html": [
       "<div>\n",
       "<style scoped>\n",
       "    .dataframe tbody tr th:only-of-type {\n",
       "        vertical-align: middle;\n",
       "    }\n",
       "\n",
       "    .dataframe tbody tr th {\n",
       "        vertical-align: top;\n",
       "    }\n",
       "\n",
       "    .dataframe thead th {\n",
       "        text-align: right;\n",
       "    }\n",
       "</style>\n",
       "<table border=\"1\" class=\"dataframe\">\n",
       "  <thead>\n",
       "    <tr style=\"text-align: right;\">\n",
       "      <th></th>\n",
       "      <th>DiaJuliano</th>\n",
       "      <th>Mes</th>\n",
       "      <th>Ano</th>\n",
       "      <th>Versao</th>\n",
       "      <th>NivConf</th>\n",
       "      <th>geometry</th>\n",
       "    </tr>\n",
       "  </thead>\n",
       "  <tbody>\n",
       "    <tr>\n",
       "      <th>0</th>\n",
       "      <td>260</td>\n",
       "      <td>09</td>\n",
       "      <td>2012</td>\n",
       "      <td>Alarmes-Histórico</td>\n",
       "      <td>0.3490</td>\n",
       "      <td>POLYGON ((-57.65500 -15.77500, -57.66000 -15.7...</td>\n",
       "    </tr>\n",
       "    <tr>\n",
       "      <th>1</th>\n",
       "      <td>258</td>\n",
       "      <td>09</td>\n",
       "      <td>2012</td>\n",
       "      <td>Alarmes-Histórico</td>\n",
       "      <td>0.3961</td>\n",
       "      <td>POLYGON ((-57.65500 -15.78000, -57.66000 -15.7...</td>\n",
       "    </tr>\n",
       "    <tr>\n",
       "      <th>2</th>\n",
       "      <td>298</td>\n",
       "      <td>10</td>\n",
       "      <td>2012</td>\n",
       "      <td>Alarmes-Histórico</td>\n",
       "      <td>0.3176</td>\n",
       "      <td>POLYGON ((-57.58000 -15.83000, -57.58500 -15.8...</td>\n",
       "    </tr>\n",
       "    <tr>\n",
       "      <th>3</th>\n",
       "      <td>253</td>\n",
       "      <td>09</td>\n",
       "      <td>2012</td>\n",
       "      <td>Alarmes-Histórico</td>\n",
       "      <td>0.3961</td>\n",
       "      <td>POLYGON ((-57.74000 -15.85000, -57.74500 -15.8...</td>\n",
       "    </tr>\n",
       "    <tr>\n",
       "      <th>4</th>\n",
       "      <td>235</td>\n",
       "      <td>08</td>\n",
       "      <td>2012</td>\n",
       "      <td>Alarmes-Histórico</td>\n",
       "      <td>0.3451</td>\n",
       "      <td>POLYGON ((-57.85000 -15.86000, -57.85500 -15.8...</td>\n",
       "    </tr>\n",
       "  </tbody>\n",
       "</table>\n",
       "</div>"
      ],
      "text/plain": [
       "   DiaJuliano Mes   Ano             Versao  NivConf  \\\n",
       "0         260  09  2012  Alarmes-Histórico   0.3490   \n",
       "1         258  09  2012  Alarmes-Histórico   0.3961   \n",
       "2         298  10  2012  Alarmes-Histórico   0.3176   \n",
       "3         253  09  2012  Alarmes-Histórico   0.3961   \n",
       "4         235  08  2012  Alarmes-Histórico   0.3451   \n",
       "\n",
       "                                            geometry  \n",
       "0  POLYGON ((-57.65500 -15.77500, -57.66000 -15.7...  \n",
       "1  POLYGON ((-57.65500 -15.78000, -57.66000 -15.7...  \n",
       "2  POLYGON ((-57.58000 -15.83000, -57.58500 -15.8...  \n",
       "3  POLYGON ((-57.74000 -15.85000, -57.74500 -15.8...  \n",
       "4  POLYGON ((-57.85000 -15.86000, -57.85500 -15.8...  "
      ]
     },
     "execution_count": 7,
     "metadata": {},
     "output_type": "execute_result"
    }
   ],
   "source": [
    "# Primeiras linhas do dataset\n",
    "df.head()"
   ]
  },
  {
   "cell_type": "code",
   "execution_count": null,
   "metadata": {},
   "outputs": [
    {
     "data": {
      "text/plain": [
       "2020    98960\n",
       "2019    60313\n",
       "2016    37822\n",
       "2017    35230\n",
       "2012    35138\n",
       "2013    25297\n",
       "2015    25121\n",
       "2014    13125\n",
       "2018     9026\n",
       "Name: Ano, dtype: int64"
      ]
     },
     "execution_count": 8,
     "metadata": {},
     "output_type": "execute_result"
    }
   ],
   "source": [
    "# Quantidade de valores por ano\n",
    "df['Ano'].value_counts()"
   ]
  },
  {
   "cell_type": "code",
   "execution_count": null,
   "metadata": {},
   "outputs": [
    {
     "data": {
      "text/html": [
       "<div>\n",
       "<style scoped>\n",
       "    .dataframe tbody tr th:only-of-type {\n",
       "        vertical-align: middle;\n",
       "    }\n",
       "\n",
       "    .dataframe tbody tr th {\n",
       "        vertical-align: top;\n",
       "    }\n",
       "\n",
       "    .dataframe thead th {\n",
       "        text-align: right;\n",
       "    }\n",
       "</style>\n",
       "<table border=\"1\" class=\"dataframe\">\n",
       "  <thead>\n",
       "    <tr style=\"text-align: right;\">\n",
       "      <th>Mes</th>\n",
       "      <th>01</th>\n",
       "      <th>02</th>\n",
       "      <th>03</th>\n",
       "      <th>04</th>\n",
       "      <th>05</th>\n",
       "      <th>06</th>\n",
       "      <th>07</th>\n",
       "      <th>08</th>\n",
       "      <th>09</th>\n",
       "      <th>10</th>\n",
       "      <th>11</th>\n",
       "      <th>12</th>\n",
       "    </tr>\n",
       "    <tr>\n",
       "      <th>Ano</th>\n",
       "      <th></th>\n",
       "      <th></th>\n",
       "      <th></th>\n",
       "      <th></th>\n",
       "      <th></th>\n",
       "      <th></th>\n",
       "      <th></th>\n",
       "      <th></th>\n",
       "      <th></th>\n",
       "      <th></th>\n",
       "      <th></th>\n",
       "      <th></th>\n",
       "    </tr>\n",
       "  </thead>\n",
       "  <tbody>\n",
       "    <tr>\n",
       "      <th>2012</th>\n",
       "      <td>NaN</td>\n",
       "      <td>NaN</td>\n",
       "      <td>403.0</td>\n",
       "      <td>292.0</td>\n",
       "      <td>317.0</td>\n",
       "      <td>203.0</td>\n",
       "      <td>1491.0</td>\n",
       "      <td>10477.0</td>\n",
       "      <td>13467.0</td>\n",
       "      <td>6288.0</td>\n",
       "      <td>1572.0</td>\n",
       "      <td>628.0</td>\n",
       "    </tr>\n",
       "    <tr>\n",
       "      <th>2013</th>\n",
       "      <td>707.0</td>\n",
       "      <td>655.0</td>\n",
       "      <td>844.0</td>\n",
       "      <td>856.0</td>\n",
       "      <td>808.0</td>\n",
       "      <td>30.0</td>\n",
       "      <td>465.0</td>\n",
       "      <td>1641.0</td>\n",
       "      <td>9342.0</td>\n",
       "      <td>4615.0</td>\n",
       "      <td>3670.0</td>\n",
       "      <td>1664.0</td>\n",
       "    </tr>\n",
       "    <tr>\n",
       "      <th>2014</th>\n",
       "      <td>480.0</td>\n",
       "      <td>871.0</td>\n",
       "      <td>1286.0</td>\n",
       "      <td>489.0</td>\n",
       "      <td>3105.0</td>\n",
       "      <td>606.0</td>\n",
       "      <td>353.0</td>\n",
       "      <td>516.0</td>\n",
       "      <td>1378.0</td>\n",
       "      <td>3070.0</td>\n",
       "      <td>819.0</td>\n",
       "      <td>152.0</td>\n",
       "    </tr>\n",
       "    <tr>\n",
       "      <th>2015</th>\n",
       "      <td>519.0</td>\n",
       "      <td>349.0</td>\n",
       "      <td>240.0</td>\n",
       "      <td>172.0</td>\n",
       "      <td>151.0</td>\n",
       "      <td>580.0</td>\n",
       "      <td>703.0</td>\n",
       "      <td>5592.0</td>\n",
       "      <td>7195.0</td>\n",
       "      <td>4608.0</td>\n",
       "      <td>1524.0</td>\n",
       "      <td>3488.0</td>\n",
       "    </tr>\n",
       "    <tr>\n",
       "      <th>2016</th>\n",
       "      <td>878.0</td>\n",
       "      <td>1515.0</td>\n",
       "      <td>216.0</td>\n",
       "      <td>60.0</td>\n",
       "      <td>110.0</td>\n",
       "      <td>216.0</td>\n",
       "      <td>2265.0</td>\n",
       "      <td>5915.0</td>\n",
       "      <td>15605.0</td>\n",
       "      <td>9439.0</td>\n",
       "      <td>996.0</td>\n",
       "      <td>607.0</td>\n",
       "    </tr>\n",
       "    <tr>\n",
       "      <th>2017</th>\n",
       "      <td>1885.0</td>\n",
       "      <td>643.0</td>\n",
       "      <td>894.0</td>\n",
       "      <td>246.0</td>\n",
       "      <td>398.0</td>\n",
       "      <td>193.0</td>\n",
       "      <td>2216.0</td>\n",
       "      <td>5557.0</td>\n",
       "      <td>18161.0</td>\n",
       "      <td>3486.0</td>\n",
       "      <td>767.0</td>\n",
       "      <td>784.0</td>\n",
       "    </tr>\n",
       "    <tr>\n",
       "      <th>2018</th>\n",
       "      <td>380.0</td>\n",
       "      <td>100.0</td>\n",
       "      <td>54.0</td>\n",
       "      <td>106.0</td>\n",
       "      <td>107.0</td>\n",
       "      <td>58.0</td>\n",
       "      <td>443.0</td>\n",
       "      <td>1541.0</td>\n",
       "      <td>4618.0</td>\n",
       "      <td>530.0</td>\n",
       "      <td>40.0</td>\n",
       "      <td>1049.0</td>\n",
       "    </tr>\n",
       "    <tr>\n",
       "      <th>2019</th>\n",
       "      <td>1201.0</td>\n",
       "      <td>1284.0</td>\n",
       "      <td>273.0</td>\n",
       "      <td>271.0</td>\n",
       "      <td>114.0</td>\n",
       "      <td>487.0</td>\n",
       "      <td>1727.0</td>\n",
       "      <td>13854.0</td>\n",
       "      <td>19120.0</td>\n",
       "      <td>14812.0</td>\n",
       "      <td>6122.0</td>\n",
       "      <td>1048.0</td>\n",
       "    </tr>\n",
       "    <tr>\n",
       "      <th>2020</th>\n",
       "      <td>808.0</td>\n",
       "      <td>422.0</td>\n",
       "      <td>1685.0</td>\n",
       "      <td>1957.0</td>\n",
       "      <td>858.0</td>\n",
       "      <td>783.0</td>\n",
       "      <td>7189.0</td>\n",
       "      <td>26772.0</td>\n",
       "      <td>37316.0</td>\n",
       "      <td>16367.0</td>\n",
       "      <td>3802.0</td>\n",
       "      <td>1001.0</td>\n",
       "    </tr>\n",
       "  </tbody>\n",
       "</table>\n",
       "</div>"
      ],
      "text/plain": [
       "Mes       01      02      03      04      05     06      07       08       09  \\\n",
       "Ano                                                                             \n",
       "2012     NaN     NaN   403.0   292.0   317.0  203.0  1491.0  10477.0  13467.0   \n",
       "2013   707.0   655.0   844.0   856.0   808.0   30.0   465.0   1641.0   9342.0   \n",
       "2014   480.0   871.0  1286.0   489.0  3105.0  606.0   353.0    516.0   1378.0   \n",
       "2015   519.0   349.0   240.0   172.0   151.0  580.0   703.0   5592.0   7195.0   \n",
       "2016   878.0  1515.0   216.0    60.0   110.0  216.0  2265.0   5915.0  15605.0   \n",
       "2017  1885.0   643.0   894.0   246.0   398.0  193.0  2216.0   5557.0  18161.0   \n",
       "2018   380.0   100.0    54.0   106.0   107.0   58.0   443.0   1541.0   4618.0   \n",
       "2019  1201.0  1284.0   273.0   271.0   114.0  487.0  1727.0  13854.0  19120.0   \n",
       "2020   808.0   422.0  1685.0  1957.0   858.0  783.0  7189.0  26772.0  37316.0   \n",
       "\n",
       "Mes        10      11      12  \n",
       "Ano                            \n",
       "2012   6288.0  1572.0   628.0  \n",
       "2013   4615.0  3670.0  1664.0  \n",
       "2014   3070.0   819.0   152.0  \n",
       "2015   4608.0  1524.0  3488.0  \n",
       "2016   9439.0   996.0   607.0  \n",
       "2017   3486.0   767.0   784.0  \n",
       "2018    530.0    40.0  1049.0  \n",
       "2019  14812.0  6122.0  1048.0  \n",
       "2020  16367.0  3802.0  1001.0  "
      ]
     },
     "execution_count": 24,
     "metadata": {},
     "output_type": "execute_result"
    }
   ],
   "source": [
    "# Tabela com a quantidade de valores por mês e ano\n",
    "df.groupby(['Ano', 'Mes']).size().unstack()"
   ]
  },
  {
   "cell_type": "markdown",
   "metadata": {},
   "source": [
    "### 3.2 Análises gráficas e inferências\n",
    "Análises gráficas e inferências sobre o dataset, como quantidade de focos de calor por ano, mês e dia juliano, entre outros, e o que essas informações podem nos dizer sobre o problema."
   ]
  },
  {
   "cell_type": "code",
   "execution_count": null,
   "metadata": {},
   "outputs": [
    {
     "data": {
      "image/png": "[encoded data removed]",
      "text/plain": [
       "<Figure size 1000x600 with 1 Axes>"
      ]
     },
     "metadata": {},
     "output_type": "display_data"
    }
   ],
   "source": [
    "# Gráfico de número de queimadas por ano\n",
    "fig, ax = plt.subplots(figsize=(10, 6))\n",
    "sns.countplot(x='Ano', data=df, ax=ax)\n",
    "ax.set_title('Número de queimadas por ano')\n",
    "ax.set_xlabel('Ano')\n",
    "ax.set_ylabel('Número de queimadas')\n",
    "plt.show()"
   ]
  },
  {
   "cell_type": "code",
   "execution_count": null,
   "metadata": {},
   "outputs": [
    {
     "data": {
      "image/png": "[encoded data removed]",
      "text/plain": [
       "<Figure size 1000x600 with 1 Axes>"
      ]
     },
     "metadata": {},
     "output_type": "display_data"
    }
   ],
   "source": [
    "# Gráfico de número de queimadas por mês ordenado\n",
    "fig, ax = plt.subplots(figsize=(10, 6))\n",
    "sns.countplot(x='Mes', data=df, ax=ax, order=df['Mes'].value_counts().index)\n",
    "ax.set_title('Número de queimadas por mês')\n",
    "ax.set_xlabel('Mês')\n",
    "ax.set_ylabel('Número de queimadas')\n",
    "plt.show()"
   ]
  }
 ],
 "metadata": {
  "kernelspec": {
   "display_name": "Python 3.10.6 ('queimadas')",
   "language": "python",
   "name": "python3"
  },
  "language_info": {
   "codemirror_mode": {
    "name": "ipython",
    "version": 3
   },
   "file_extension": ".py",
   "mimetype": "text/x-python",
   "name": "python",
   "nbconvert_exporter": "python",
   "pygments_lexer": "ipython3",
   "version": "3.10.6"
  },
  "orig_nbformat": 4,
  "vscode": {
   "interpreter": {
    "hash": "781cd4af447a6986a17c97ac3e5400bed184dd4110eb799df33bb254776902dd"
   }
  }
 },
 "nbformat": 4,
 "nbformat_minor": 2
}
