{
 "cells": [
  {
   "cell_type": "markdown",
   "metadata": {},
   "source": [
    "# Códigos para a geração de dados de proveniência"
   ]
  },
  {
   "cell_type": "markdown",
   "metadata": {},
   "source": [
    "- Notebook para a geração de dados de proveniência utilizando o [prov](https://github.com/trungdong/prov), uma biblioteca para a geração de proveniência em Python. A proveniência é gerada a partir de um arquivo de configuração em formato JSON. O arquivo de configuração contém as informações necessárias para a geração, como o nome do arquivo, o autor, a descrição, a data de criação, entre outros. A biblioteca prov gera um arquivo no formato PROV-JSON, que pode ser visualizado utilizando o [Prov Viewer](https://github.com/gems-uff/prov-viewer).\n",
    "\n",
    "- O arquivo de proveniência gerado pode ser visualizado [aqui]()."
   ]
  },
  {
   "cell_type": "markdown",
   "metadata": {},
   "source": [
    "[![Colab](https://colab.research.google.com/assets/colab-badge.svg)](https://colab.research.google.com/github/charlespimentel/DS_queimadas_pantanal/blob/main/prov_generator.ipynb)\n",
    "> Execute a célula abaixo se estiver usando Google Colab para instalar as dependências necessárias.\n",
    "\n"
   ]
  },
  {
   "cell_type": "code",
   "execution_count": 1,
   "metadata": {},
   "outputs": [],
   "source": [
    "# Para rodar este notebook no Google Colab, é necessário fazer o donwload dos arquivos disponibilizados no repositório do GitHub. Para isso, siga os seguintes passos:\n",
    "# 1. Clique no botão \"Open in Colab\"\n",
    "# 2. Execute a célula abaixo para fazer o download dos arquivos\n",
    "\n",
    "# Fazer download dos arquivos do projeto no GitHub\n",
    "!git clone https://github.com/charlespimentel/DS_queimadas_pantanal\n",
    "\n",
    "# Mover todos os aquivos para a pasta raiz\n",
    "!mv DS_queimadas_pantanal/* .\n",
    "\n",
    "# Instalar as bibliotecas necessárias\n",
    "!pip install prov"
   ]
  },
  {
   "cell_type": "markdown",
   "metadata": {},
   "source": [
    "### Declaração das bibliotecas"
   ]
  },
  {
   "cell_type": "code",
   "execution_count": 1,
   "metadata": {},
   "outputs": [],
   "source": [
    "import pandas as pd\n",
    "import geopandas as gpd\n",
    "import numpy as np\n",
    "import matplotlib.pyplot as plt\n",
    "import seaborn as sns\n",
    "import contextily as ctx\n",
    "import plotly.express as px\n",
    "import plotly.graph_objects as go\n",
    "import folium\n",
    "from prophet import Prophet"
   ]
  },
  {
   "cell_type": "markdown",
   "metadata": {},
   "source": [
    "### Execução do código"
   ]
  },
  {
   "cell_type": "code",
   "execution_count": 2,
   "metadata": {},
   "outputs": [],
   "source": [
    "# Importando modelo para gerar prov\n",
    "from prov import model"
   ]
  },
  {
   "cell_type": "code",
   "execution_count": 11,
   "metadata": {},
   "outputs": [],
   "source": [
    "# Criando um documento PROV\n",
    "doc = model.ProvDocument()"
   ]
  },
  {
   "cell_type": "code",
   "execution_count": 12,
   "metadata": {},
   "outputs": [
    {
     "data": {
      "text/plain": [
       "<Namespace: PPGI {http://www.ppgi.ufrj.br/}>"
      ]
     },
     "execution_count": 12,
     "metadata": {},
     "output_type": "execute_result"
    }
   ],
   "source": [
    "# Declaração de namespaces\n",
    "doc.set_default_namespace('https://github.com/charlespimentel/DS_queimadas_pantanal')\n",
    "doc.add_namespace('LASA', 'https://lasa.ufrj.br/')\n",
    "doc.add_namespace('PPGI', 'http://www.ppgi.ufrj.br/')"
   ]
  },
  {
   "cell_type": "markdown",
   "metadata": {},
   "source": [
    ">Dataset"
   ]
  },
  {
   "cell_type": "code",
   "execution_count": 13,
   "metadata": {},
   "outputs": [],
   "source": [
    "# Criando entidades\n",
    "dataset = doc.entity('LASA:alarmes_hist_pantanal', {model.PROV_TYPE : 'LASA:dataset', model.PROV_LOCATION : 'https://zenodo.org/record/6799248',\n",
    "                                                 'LASA:resume' : 'Results from burned area product over Brazil (Cerrado and Pantanal) derived from ALARMES developed on Laboratory for Environmental Satellite Applications (LASA) based in Federal University of Rio de Janeiro (UFRJ) from 2012 through 2021. For additional information about these results, please see the LASA website.',\n",
    "                                                 'LASA:records' : '346666', 'LASA:columns' : '6'})\n",
    "shp_2012 = doc.entity('LASA:alarmes_hist_2012_pantanal.shp', {model.PROV_TYPE : 'File', 'LASA:size' : '4.966 MB'})\n",
    "shp_2013 = doc.entity('LASA:alarmes_hist_2013_pantanal.shp', {model.PROV_TYPE : 'File', 'LASA:size' : '3.449 MB'})\n",
    "shp_2014 = doc.entity('LASA:alarmes_hist_2014_pantanal.shp', {model.PROV_TYPE : 'File', 'LASA:size' : '1.776 MB'})\n",
    "shp_2015 = doc.entity('LASA:alarmes_hist_2015_pantanal.shp', {model.PROV_TYPE : 'File', 'LASA:size' : '3.445 MB'})\n",
    "shp_2016 = doc.entity('LASA:alarmes_hist_2016_pantanal.shp', {model.PROV_TYPE : 'File', 'LASA:size' : '5.210 MB'})\n",
    "shp_2017 = doc.entity('LASA:alarmes_hist_2017_pantanal.shp', {model.PROV_TYPE : 'File', 'LASA:size' : '4.826 MB'})\n",
    "shp_2018 = doc.entity('LASA:alarmes_hist_2018_pantanal.shp', {model.PROV_TYPE : 'File', 'LASA:size' : '1.218 MB'})\n",
    "shp_2019 = doc.entity('LASA:alarmes_hist_2019_pantanal.shp', {model.PROV_TYPE : 'File', 'LASA:size' : '8.131 MB'})\n",
    "shp_2020 = doc.entity('LASA:alarmes_hist_2020_pantanal.shp', {model.PROV_TYPE : 'File', 'LASA:size' : '14.197 MB'})\n",
    "shp_2021 = doc.entity('LASA:alarmes_hist_2021_pantanal.shp', {model.PROV_TYPE : 'File', 'LASA:size' : '1.541 MB'})"
   ]
  },
  {
   "cell_type": "code",
   "execution_count": null,
   "metadata": {},
   "outputs": [],
   "source": [
    "# Criando agentes\n",
    "isaac = doc.agent('PPGI:Isaac Lima', {model.PROV_TYPE : 'prov:Person', 'PPGI:position': 'Estudante',\n",
    "                                           model.PROV_LOCATION : 'Programa de Pós-Graduação em Informática (PPGI) - Universidade Federal do Rio de Janeiro (UFRJ)'})\n",
    "charles = doc.agent('PPGI:Charles Pimentel', {model.PROV_TYPE : 'prov:Person', 'PPGI:position': 'Estudante',\n",
    "                                             model.PROV_LOCATION : 'Programa de Pós-Graduação em Informática (PPGI) - Universidade Federal do Rio de Janeiro (UFRJ)'})\n"
   ]
  },
  {
   "cell_type": "code",
   "execution_count": null,
   "metadata": {},
   "outputs": [],
   "source": [
    "# Criando atividades\n",
    "# Atividade 1 - get dataset\n",
    "get_dataset = doc.activity('LASA:get_dataset', '2021-09-01', '2021-09-01', {model.PROV_TYPE : 'LASA:download'})\n",
    "doc.wasAssociatedWith(get_dataset, isaac)\n",
    "doc.used(get_dataset, dataset, '2021-09-01', '2021-09-01', {model.PROV_TYPE : 'LASA:download'})\n",
    "\n",
    "# Atividade 2 - get shapefiles from all years\n",
    "get_shp_2012 = doc.activity('LASA:get_shp_2012', '2021-09-01', '2021-09-01', {model.PROV_TYPE : 'LASA:download'})\n",
    "doc.wasAssociatedWith(get_shp_2012, isaac)\n",
    "doc.used(get_shp_2012, shp_2012, '2021-09-01', '2021-09-01', {model.PROV_TYPE : 'LASA:download'})\n",
    "\n",
    "get_shp_2013 = doc.activity('LASA:get_shp_2013', '2021-09-01', '2021-09-01', {model.PROV_TYPE : 'LASA:download'})\n",
    "doc.wasAssociatedWith(get_shp_2013, isaac)\n",
    "doc.used(get_shp_2013, shp_2013, '2021-09-01', '2021-09-01', {model.PROV_TYPE : 'LASA:download'})\n",
    "\n",
    "get_shp_2014 = doc.activity('LASA:get_shp_2014', '2021-09-01', '2021-09-01', {model.PROV_TYPE : 'LASA:download'})\n",
    "doc.wasAssociatedWith(get_shp_2014, isaac)\n",
    "doc.used(get_shp_2014, shp_2014, '2021-09-01', '2021-09-01', {model.PROV_TYPE : 'LASA:download'})\n",
    "\n",
    "get_shp_2015 = doc.activity('LASA:get_shp_2015', '2021-09-01', '2021-09-01', {model.PROV_TYPE : 'LASA:download'})\n",
    "doc.wasAssociatedWith(get_shp_2015, isaac)\n",
    "doc.used(get_shp_2015, shp_2015, '2021-09-01', '2021-09-01', {model.PROV_TYPE : 'LASA:download'})\n",
    "\n",
    "get_shp_2016 = doc.activity('LASA:get_shp_2016', '2021-09-01', '2021-09-01', {model.PROV_TYPE : 'LASA:download'})\n",
    "doc.wasAssociatedWith(get_shp_2016, isaac)\n",
    "doc.used(get_shp_2016, shp_2016, '2021-09-01', '2021-09-01', {model.PROV_TYPE : 'LASA:download'})\n",
    "\n",
    "get_shp_2017 = doc.activity('LASA:get_shp_2017', '2021-09-01', '2021-09-01', {model.PROV_TYPE : 'LASA:download'})\n",
    "doc.wasAssociatedWith(get_shp_2017, isaac)\n",
    "doc.used(get_shp_2017, shp_2017, '2021-09-01', '2021-09-01', {model.PROV_TYPE : 'LASA:download'})\n",
    "\n",
    "get_shp_2018 = doc.activity('LASA:get_shp_2018', '2021-09-01', '2021-09-01', {model.PROV_TYPE : 'LASA:download'})\n",
    "doc.wasAssociatedWith(get_shp_2018, isaac)\n",
    "doc.used(get_shp_2018, shp_2018, '2021-09-01', '2021-09-01', {model.PROV_TYPE : 'LASA:download'})\n",
    "\n",
    "get_shp_2019 = doc.activity('LASA:get_shp_2019', '2021-09-01', '2021-09-01', {model.PROV_TYPE : 'LASA:download'})\n",
    "doc.wasAssociatedWith(get_shp_2019, isaac)\n",
    "doc.used(get_shp_2019, shp_2019, '2021-09-01', '2021-09-01', {model.PROV_TYPE : 'LASA:download'})\n",
    "\n",
    "get_shp_2020 = doc.activity('LASA:get_shp_2020', '2021-09-01', '2021-09-01', {model.PROV_TYPE : 'LASA:download'})\n",
    "doc.wasAssociatedWith(get_shp_2020, isaac)\n",
    "doc.used(get_shp_2020, shp_2020, '2021-09-01', '2021-09-01', {model.PROV_TYPE : 'LASA:download'})\n",
    "\n",
    "get_shp_2021 = doc.activity('LASA:get_shp_2021', '2021-09-01', '2021-09-01', {model.PROV_TYPE : 'LASA:download'})\n",
    "doc.wasAssociatedWith(get_shp_2021, isaac)\n",
    "doc.used(get_shp_2021, shp_2021, '2021-09-01', '2021-09-01', {model.PROV_TYPE : 'LASA:download'})\n",
    "\n",
    "# Atividade 3 - Concatenate all shapefiles\n",
    "concatenate_shp = doc.activity('LASA:concatenate_shp', '2021-09-01', '2021-09-01', {model.PROV_TYPE : 'LASA:concatenate'})\n",
    "doc.wasAssociatedWith(concatenate_shp, isaac)\n",
    "doc.used(concatenate_shp, shp_2012, '2021-09-01', '2021-09-01', {model.PROV_TYPE : 'LASA:concatenate'})\n",
    "doc.used(concatenate_shp, shp_2013, '2021-09-01', '2021-09-01', {model.PROV_TYPE : 'LASA:concatenate'})\n",
    "doc.used(concatenate_shp, shp_2014, '2021-09-01', '2021-09-01', {model.PROV_TYPE : 'LASA:concatenate'})\n",
    "doc.used(concatenate_shp, shp_2015, '2021-09-01', '2021-09-01', {model.PROV_TYPE : 'LASA:concatenate'})\n",
    "doc.used(concatenate_shp, shp_2016, '2021-09-01', '2021-09-01', {model.PROV_TYPE : 'LASA:concatenate'})\n",
    "doc.used(concatenate_shp, shp_2017, '2021-09-01', '2021-09-01', {model.PROV_TYPE : 'LASA:concatenate'})\n",
    "doc.used(concatenate_shp, shp_2018, '2021-09-01', '2021-09-01', {model.PROV_TYPE : 'LASA:concatenate'})\n",
    "doc.used(concatenate_shp, shp_2019, '2021-09-01', '2021-09-01', {model.PROV_TYPE : 'LASA:concatenate'})\n",
    "doc.used(concatenate_shp, shp_2020, '2021-09-01', '2021-09-01', {model.PROV_TYPE : 'LASA:concatenate'})\n",
    "doc.used(concatenate_shp, shp_2021, '2021-09-01', '2021-09-01', {model.PROV_TYPE : 'LASA:concatenate'})\n",
    "\n",
    "# Atividade 4 - Clean data\n",
    "clean_data = doc.activity('LASA:clean_data', '2021-09-01', '2021-09-01', {model.PROV_TYPE : 'LASA:clean'})\n",
    "doc.wasAssociatedWith(clean_data, isaac)\n",
    "doc.used(clean_data, concatenate_shp, '2021-09-01', '2021-09-01', {model.PROV_TYPE : 'LASA:clean'})\n",
    "\n",
    "# Atividade 5 - Explorative analysis\n",
    "explorative_analysis = doc.activity('LASA:explorative_analysis', '2021-09-01', '2021-09-01', {model.PROV_TYPE : 'LASA:explorative'})\n",
    "doc.wasAssociatedWith(explorative_analysis, isaac)\n",
    "doc.used(explorative_analysis, clean_data, '2021-09-01', '2021-09-01', {model.PROV_TYPE : 'LASA:explorative'})\n",
    "\n",
    "# Atividade 6 - Export data\n",
    "export_data = doc.activity('LASA:export_data', '2021-09-01', '2021-09-01', {model.PROV_TYPE : 'LASA:export'})\n",
    "doc.wasAssociatedWith(export_data, isaac)\n",
    "doc.used(export_data, explorative_analysis, '2021-09-01', '2021-09-01', {model.PROV_TYPE : 'LASA:export'})\n",
    "\n",
    "\n"
   ]
  },
  {
   "cell_type": "markdown",
   "metadata": {},
   "source": [
    "_______________________________"
   ]
  },
  {
   "cell_type": "code",
   "execution_count": 3,
   "metadata": {},
   "outputs": [],
   "source": [
    "# Criando novo documento de proveniência\n",
    "d1 = ProvDocument()"
   ]
  },
  {
   "cell_type": "code",
   "execution_count": 4,
   "metadata": {},
   "outputs": [
    {
     "data": {
      "text/plain": [
       "<Namespace: art {https://github.com/charlespimentel/DS_queimadas_pantanal/blob/main/artigo_queimadas_pantanal.docx/ns/#}>"
      ]
     },
     "execution_count": 4,
     "metadata": {},
     "output_type": "execute_result"
    }
   ],
   "source": [
    "# Declarando namespaces\n",
    "d1.add_namespace('now', 'https://github.com/charlespimentel/DS_queimadas_pantanal/blob/main/artigo_queimadas_pantanal.docx/nownews/')\n",
    "d1.add_namespace('foaf', 'http://xmlns.com/foaf/0.1/')\n",
    "d1.add_namespace('art', 'https://github.com/charlespimentel/DS_queimadas_pantanal/blob/main/artigo_queimadas_pantanal.docx/ns/#')"
   ]
  },
  {
   "cell_type": "code",
   "execution_count": 5,
   "metadata": {},
   "outputs": [
    {
     "data": {
      "text/plain": [
       "<ProvAgent: foaf:Isaac, Charles>"
      ]
     },
     "execution_count": 5,
     "metadata": {},
     "output_type": "execute_result"
    }
   ],
   "source": [
    "#Entidade\n",
    "e1 = d1.entity('now:https://github.com/charlespimentel/DS_queimadas_pantanal/blob/main/artigo_queimadas_pantanal.docx')\n",
    "d1.agent('foaf:Isaac, Charles')"
   ]
  },
  {
   "cell_type": "code",
   "execution_count": 6,
   "metadata": {},
   "outputs": [
    {
     "data": {
      "text/plain": [
       "<ProvAttribution: (now:https://github.com/charlespimentel/DS_queimadas_pantanal/blob/main/artigo_queimadas_pantanal.docx, foaf:Isaac, Charles)>"
      ]
     },
     "execution_count": 6,
     "metadata": {},
     "output_type": "execute_result"
    }
   ],
   "source": [
    "# Atribuindo o artigo ao agente\n",
    "d1.wasAttributedTo(e1, 'foaf:Isaac, Charles')"
   ]
  },
  {
   "cell_type": "code",
   "execution_count": 7,
   "metadata": {},
   "outputs": [
    {
     "data": {
      "text/plain": [
       "<Namespace: Lasa {https://lasa.ufrj.br/}>"
      ]
     },
     "execution_count": 7,
     "metadata": {},
     "output_type": "execute_result"
    }
   ],
   "source": [
    "# Declarando namespace\n",
    "d1.add_namespace('Lasa', 'https://lasa.ufrj.br/')"
   ]
  },
  {
   "cell_type": "code",
   "execution_count": 8,
   "metadata": {},
   "outputs": [
    {
     "data": {
      "text/plain": [
       "<ProvEntity: Lasa:https://github.com/charlespimentel/DS_queimadas_pantanal/tree/main/Data_Lasa_12_21>"
      ]
     },
     "execution_count": 8,
     "metadata": {},
     "output_type": "execute_result"
    }
   ],
   "source": [
    "d1.entity( 'Lasa:https://github.com/charlespimentel/DS_queimadas_pantanal/tree/main/Data_Lasa_12_21' ,{'prov:label':'Lasa_12_21','prov: type':'void: Dataset'})"
   ]
  },
  {
   "cell_type": "code",
   "execution_count": 9,
   "metadata": {},
   "outputs": [
    {
     "data": {
      "text/plain": [
       "<ProvActivity: is:writeArticle>"
      ]
     },
     "execution_count": 9,
     "metadata": {},
     "output_type": "execute_result"
    }
   ],
   "source": [
    "# Adicionando uma Atividade\n",
    "d1.add_namespace('is', 'https://github.com/charlespimentel/DS_queimadas_pantanal/blob/main/artigo_queimadas_pantanal.docx/is/#')\n",
    "d1.activity('is:writeArticle')"
   ]
  },
  {
   "cell_type": "code",
   "execution_count": 10,
   "metadata": {},
   "outputs": [
    {
     "data": {
      "text/plain": [
       "<ProvGeneration: (now:https://github.com/charlespimentel/DS_queimadas_pantanal/blob/main/artigo_queimadas_pantanal.docx, is:writeArticle)>"
      ]
     },
     "execution_count": 10,
     "metadata": {},
     "output_type": "execute_result"
    }
   ],
   "source": [
    "# Uso e Geração\n",
    "d1.used('is:writeArticle', 'Lasa:https://github.com/charlespimentel/DS_queimadas_pantanal/tree/main/Data_Lasa_12_21')\n",
    "d1.wasGeneratedBy('now:https://github.com/charlespimentel/DS_queimadas_pantanal/blob/main/artigo_queimadas_pantanal.docx', 'is:writeArticle')"
   ]
  },
  {
   "cell_type": "code",
   "execution_count": 11,
   "metadata": {},
   "outputs": [],
   "source": [
    "agent    = input(\"Enter the name of the AGENT WHO is running the program: \")        #PROV-Agent\n",
    "entity   = input(\"Enter the name of the ENTITY dataset: \")                          #PROV-Entity\n",
    "activity = input(\"Enter the name of the ACTIVITY: \")                                #PROV-Activity\n",
    "graph = entity"
   ]
  },
  {
   "cell_type": "code",
   "execution_count": 12,
   "metadata": {},
   "outputs": [
    {
     "data": {
      "text/plain": [
       "<Namespace: greco {http://www.ufrj.br/ppgi/greco/#}>"
      ]
     },
     "execution_count": 12,
     "metadata": {},
     "output_type": "execute_result"
    }
   ],
   "source": [
    "d1.add_namespace('ufrj', 'http://www.ufrj.br/ppgi/')\n",
    "d1.add_namespace('foaf', 'http://xmlns.com/foaf/0.1/')\n",
    "d1.add_namespace('greco', 'http://www.ufrj.br/ppgi/greco/#')"
   ]
  },
  {
   "cell_type": "code",
   "execution_count": 13,
   "metadata": {},
   "outputs": [
    {
     "data": {
      "text/plain": [
       "<ProvGeneration: (ufrj:Lasa, greco:analysis)>"
      ]
     },
     "execution_count": 13,
     "metadata": {},
     "output_type": "execute_result"
    }
   ],
   "source": [
    "# Adicionando Entidade\n",
    "entity = \"ufrj:\"+ entity\n",
    "e1 = d1.entity(entity)\n",
    "\n",
    "# Adicionando Agente\n",
    "agent = \"foaf:\"+ agent\n",
    "d1.agent(agent)\n",
    "\n",
    "# Atribuindo a execução do experimento ao PROV-Agent\n",
    "d1.wasAttributedTo(e1, agent)\n",
    "\n",
    "# Adicionando uma atividade\n",
    "activity = \"greco:\"+ activity\n",
    "d1.activity(activity)\n",
    "\n",
    "# Geração\n",
    "d1.wasGeneratedBy( entity, activity)"
   ]
  },
  {
   "cell_type": "code",
   "execution_count": 14,
   "metadata": {},
   "outputs": [
    {
     "data": {
      "text/plain": [
       "<ProvEntity: ufrj:Lasa>"
      ]
     },
     "execution_count": 14,
     "metadata": {},
     "output_type": "execute_result"
    }
   ],
   "source": [
    "# Adicionando um papel para o PROV-Agent\n",
    "d1.agent(agent, {'prov:hadRole': 'Executor', 'foaf:mbox': '{pimentelufrj,isaac.dcesares}@gmail.com', 'prov:attributedAtTime': str(datetime.datetime.utcnow())})\n",
    "d1.entity(entity, {'prov:generatedAtTime': str(datetime.datetime.utcnow())})"
   ]
  },
  {
   "cell_type": "code",
   "execution_count": 15,
   "metadata": {},
   "outputs": [
    {
     "data": {
      "text/plain": [
       "<ProvDerivation: (now:https://github.com/charlespimentel/DS_queimadas_pantanal/blob/main/artigo_queimadas_pantanal.docx, Lasa:https://github.com/charlespimentel/DS_queimadas_pantanal/tree/main/Data_Lasa_12_21)>"
      ]
     },
     "execution_count": 15,
     "metadata": {},
     "output_type": "execute_result"
    }
   ],
   "source": [
    "d1.wasDerivedFrom('now:https://github.com/charlespimentel/DS_queimadas_pantanal/blob/main/artigo_queimadas_pantanal.docx', 'Lasa:https://github.com/charlespimentel/DS_queimadas_pantanal/tree/main/Data_Lasa_12_21')"
   ]
  },
  {
   "cell_type": "code",
   "execution_count": 16,
   "metadata": {},
   "outputs": [
    {
     "name": "stdout",
     "output_type": "stream",
     "text": [
      "document\n",
      "  prefix now <https://github.com/charlespimentel/DS_queimadas_pantanal/blob/main/artigo_queimadas_pantanal.docx/nownews/>\n",
      "  prefix foaf <https://github.com/charlespimentel/DS_queimadas_pantanal/blob/main/artigo_queimadas_pantanal.docx/nownews/people/>\n",
      "  prefix art <https://github.com/charlespimentel/DS_queimadas_pantanal/blob/main/artigo_queimadas_pantanal.docx/ns/#>\n",
      "  prefix Lasa <https://lasa.ufrj.br/>\n",
      "  prefix is <https://github.com/charlespimentel/DS_queimadas_pantanal/blob/main/artigo_queimadas_pantanal.docx/is/#>\n",
      "  prefix ufrj <http://www.ufrj.br/ppgi/>\n",
      "  prefix foaf_1 <http://xmlns.com/foaf/0.1/>\n",
      "  prefix greco <http://www.ufrj.br/ppgi/greco/#>\n",
      "  \n",
      "  entity(now:https://github.com/charlespimentel/DS_queimadas_pantanal/blob/main/artigo_queimadas_pantanal.docx)\n",
      "  agent(foaf:Isaac, Charles)\n",
      "  wasAttributedTo(now:https://github.com/charlespimentel/DS_queimadas_pantanal/blob/main/artigo_queimadas_pantanal.docx, foaf:Isaac, Charles)\n",
      "  entity(Lasa:https://github.com/charlespimentel/DS_queimadas_pantanal/tree/main/Data_Lasa_12_21, [prov:label=\"Lasa_12_21\", prov: type=\"void: Dataset\"])\n",
      "  activity(is:writeArticle, -, -)\n",
      "  used(is:writeArticle, Lasa:https://github.com/charlespimentel/DS_queimadas_pantanal/tree/main/Data_Lasa_12_21, -)\n",
      "  wasGeneratedBy(now:https://github.com/charlespimentel/DS_queimadas_pantanal/blob/main/artigo_queimadas_pantanal.docx, is:writeArticle, -)\n",
      "  entity(ufrj:Lasa)\n",
      "  agent(foaf:Isaac)\n",
      "  wasAttributedTo(ufrj:Lasa, foaf:Isaac)\n",
      "  activity(greco:analysis, -, -)\n",
      "  wasGeneratedBy(ufrj:Lasa, greco:analysis, -)\n",
      "  agent(foaf:Isaac, [prov:hadRole=\"Executor\", foaf:mbox=\"{pimentelufrj,isaac.dcesares}@gmail.com\", prov:attributedAtTime=\"2022-09-27 11:29:37.838822\"])\n",
      "  entity(ufrj:Lasa, [prov:generatedAtTime=\"2022-09-27 11:29:37.838822\"])\n",
      "  wasDerivedFrom(now:https://github.com/charlespimentel/DS_queimadas_pantanal/blob/main/artigo_queimadas_pantanal.docx, Lasa:https://github.com/charlespimentel/DS_queimadas_pantanal/tree/main/Data_Lasa_12_21, -, -, -)\n",
      "endDocument\n"
     ]
    }
   ],
   "source": [
    "# O que temos até agora (in PROV-N)\n",
    "print(d1.get_provn())"
   ]
  },
  {
   "cell_type": "code",
   "execution_count": 20,
   "metadata": {},
   "outputs": [
    {
     "name": "stdout",
     "output_type": "stream",
     "text": [
      "\"dot\" with args ['-Tpng', 'C:\\\\Users\\\\User\\\\AppData\\\\Local\\\\Temp\\\\tmp8649u75e'] returned code: 1\n",
      "\n",
      "stdout, stderr:\n",
      " b''\n",
      "b''\n",
      "\n"
     ]
    },
    {
     "ename": "AssertionError",
     "evalue": "\"dot\" with args ['-Tpng', 'C:\\\\Users\\\\User\\\\AppData\\\\Local\\\\Temp\\\\tmp8649u75e'] returned code: 1",
     "output_type": "error",
     "traceback": [
      "\u001b[1;31m---------------------------------------------------------------------------\u001b[0m",
      "\u001b[1;31mAssertionError\u001b[0m                            Traceback (most recent call last)",
      "Cell \u001b[1;32mIn [20], line 4\u001b[0m\n\u001b[0;32m      2\u001b[0m dot \u001b[38;5;241m=\u001b[39m prov_to_dot(d1)\n\u001b[0;32m      3\u001b[0m graph \u001b[38;5;241m=\u001b[39m graph \u001b[38;5;241m+\u001b[39m\u001b[38;5;124m\"\u001b[39m\u001b[38;5;124m.png\u001b[39m\u001b[38;5;124m\"\u001b[39m\n\u001b[1;32m----> 4\u001b[0m \u001b[43mdot\u001b[49m\u001b[38;5;241;43m.\u001b[39;49m\u001b[43mwrite_png\u001b[49m\u001b[43m(\u001b[49m\u001b[38;5;124;43m'\u001b[39;49m\u001b[38;5;124;43marticle-prov.png\u001b[39;49m\u001b[38;5;124;43m'\u001b[39;49m\u001b[43m)\u001b[49m\n",
      "File \u001b[1;32mc:\\ProgramData\\Miniconda3\\envs\\queimadas\\lib\\site-packages\\pydot.py:1743\u001b[0m, in \u001b[0;36mDot.__init__.<locals>.new_method\u001b[1;34m(path, f, prog, encoding)\u001b[0m\n\u001b[0;32m   1739\u001b[0m \u001b[39mdef\u001b[39;00m \u001b[39mnew_method\u001b[39m(\n\u001b[0;32m   1740\u001b[0m         path, f\u001b[39m=\u001b[39mfrmt, prog\u001b[39m=\u001b[39m\u001b[39mself\u001b[39m\u001b[39m.\u001b[39mprog,\n\u001b[0;32m   1741\u001b[0m         encoding\u001b[39m=\u001b[39m\u001b[39mNone\u001b[39;00m):\n\u001b[0;32m   1742\u001b[0m     \u001b[39m\"\"\"Refer to docstring of method `write.`\"\"\"\u001b[39;00m\n\u001b[1;32m-> 1743\u001b[0m     \u001b[39mself\u001b[39;49m\u001b[39m.\u001b[39;49mwrite(\n\u001b[0;32m   1744\u001b[0m         path, \u001b[39mformat\u001b[39;49m\u001b[39m=\u001b[39;49mf, prog\u001b[39m=\u001b[39;49mprog,\n\u001b[0;32m   1745\u001b[0m         encoding\u001b[39m=\u001b[39;49mencoding)\n",
      "File \u001b[1;32mc:\\ProgramData\\Miniconda3\\envs\\queimadas\\lib\\site-packages\\pydot.py:1828\u001b[0m, in \u001b[0;36mDot.write\u001b[1;34m(self, path, prog, format, encoding)\u001b[0m\n\u001b[0;32m   1826\u001b[0m         f\u001b[39m.\u001b[39mwrite(s)\n\u001b[0;32m   1827\u001b[0m \u001b[39melse\u001b[39;00m:\n\u001b[1;32m-> 1828\u001b[0m     s \u001b[39m=\u001b[39m \u001b[39mself\u001b[39;49m\u001b[39m.\u001b[39;49mcreate(prog, \u001b[39mformat\u001b[39;49m, encoding\u001b[39m=\u001b[39;49mencoding)\n\u001b[0;32m   1829\u001b[0m     \u001b[39mwith\u001b[39;00m io\u001b[39m.\u001b[39mopen(path, mode\u001b[39m=\u001b[39m\u001b[39m'\u001b[39m\u001b[39mwb\u001b[39m\u001b[39m'\u001b[39m) \u001b[39mas\u001b[39;00m f:\n\u001b[0;32m   1830\u001b[0m         f\u001b[39m.\u001b[39mwrite(s)\n",
      "File \u001b[1;32mc:\\ProgramData\\Miniconda3\\envs\\queimadas\\lib\\site-packages\\pydot.py:1956\u001b[0m, in \u001b[0;36mDot.create\u001b[1;34m(self, prog, format, encoding)\u001b[0m\n\u001b[0;32m   1944\u001b[0m     message \u001b[39m=\u001b[39m (\n\u001b[0;32m   1945\u001b[0m         \u001b[39m'\u001b[39m\u001b[39m\"\u001b[39m\u001b[39m{prog}\u001b[39;00m\u001b[39m\"\u001b[39m\u001b[39m with args \u001b[39m\u001b[39m{arguments}\u001b[39;00m\u001b[39m returned code: \u001b[39m\u001b[39m{code}\u001b[39;00m\u001b[39m\\n\u001b[39;00m\u001b[39m\\n\u001b[39;00m\u001b[39m'\u001b[39m\n\u001b[0;32m   1946\u001b[0m         \u001b[39m'\u001b[39m\u001b[39mstdout, stderr:\u001b[39m\u001b[39m\\n\u001b[39;00m\u001b[39m \u001b[39m\u001b[39m{out}\u001b[39;00m\u001b[39m\\n\u001b[39;00m\u001b[39m{err}\u001b[39;00m\u001b[39m\\n\u001b[39;00m\u001b[39m'\u001b[39m\n\u001b[1;32m   (...)\u001b[0m\n\u001b[0;32m   1952\u001b[0m         err\u001b[39m=\u001b[39mstderr_data,\n\u001b[0;32m   1953\u001b[0m     )\n\u001b[0;32m   1954\u001b[0m     \u001b[39mprint\u001b[39m(message)\n\u001b[1;32m-> 1956\u001b[0m \u001b[39massert\u001b[39;00m process\u001b[39m.\u001b[39mreturncode \u001b[39m==\u001b[39m \u001b[39m0\u001b[39m, (\n\u001b[0;32m   1957\u001b[0m         \u001b[39m'\u001b[39m\u001b[39m\"\u001b[39m\u001b[39m{prog}\u001b[39;00m\u001b[39m\"\u001b[39m\u001b[39m with args \u001b[39m\u001b[39m{arguments}\u001b[39;00m\u001b[39m returned code: \u001b[39m\u001b[39m{code}\u001b[39;00m\u001b[39m'\u001b[39m\u001b[39m.\u001b[39mformat(\n\u001b[0;32m   1958\u001b[0m             prog\u001b[39m=\u001b[39mprog,\n\u001b[0;32m   1959\u001b[0m             arguments\u001b[39m=\u001b[39marguments,\n\u001b[0;32m   1960\u001b[0m             code\u001b[39m=\u001b[39mprocess\u001b[39m.\u001b[39mreturncode,\n\u001b[0;32m   1961\u001b[0m         )\n\u001b[0;32m   1962\u001b[0m     )\n\u001b[0;32m   1964\u001b[0m \u001b[39mreturn\u001b[39;00m stdout_data\n",
      "\u001b[1;31mAssertionError\u001b[0m: \"dot\" with args ['-Tpng', 'C:\\\\Users\\\\User\\\\AppData\\\\Local\\\\Temp\\\\tmp8649u75e'] returned code: 1"
     ]
    }
   ],
   "source": [
    "from prov.dot import prov_to_dot\n",
    "dot = prov_to_dot(d1)\n",
    "graph = graph +\".png\"\n",
    "dot.write_png('article-prov.png')"
   ]
  },
  {
   "cell_type": "code",
   "execution_count": 18,
   "metadata": {},
   "outputs": [
    {
     "ename": "FileNotFoundError",
     "evalue": "No such file or directory: 'article-prov.png'",
     "output_type": "error",
     "traceback": [
      "\u001b[1;31m---------------------------------------------------------------------------\u001b[0m",
      "\u001b[1;31mTypeError\u001b[0m                                 Traceback (most recent call last)",
      "File \u001b[1;32mc:\\ProgramData\\Miniconda3\\envs\\queimadas\\lib\\site-packages\\IPython\\core\\display.py:1032\u001b[0m, in \u001b[0;36mImage._data_and_metadata\u001b[1;34m(self, always_both)\u001b[0m\n\u001b[0;32m   1031\u001b[0m \u001b[39mtry\u001b[39;00m:\n\u001b[1;32m-> 1032\u001b[0m     b64_data \u001b[39m=\u001b[39m b2a_base64(\u001b[39mself\u001b[39;49m\u001b[39m.\u001b[39;49mdata)\u001b[39m.\u001b[39mdecode(\u001b[39m'\u001b[39m\u001b[39mascii\u001b[39m\u001b[39m'\u001b[39m)\n\u001b[0;32m   1033\u001b[0m \u001b[39mexcept\u001b[39;00m \u001b[39mTypeError\u001b[39;00m \u001b[39mas\u001b[39;00m e:\n",
      "\u001b[1;31mTypeError\u001b[0m: a bytes-like object is required, not 'str'",
      "\nThe above exception was the direct cause of the following exception:\n",
      "\u001b[1;31mFileNotFoundError\u001b[0m                         Traceback (most recent call last)",
      "File \u001b[1;32mc:\\ProgramData\\Miniconda3\\envs\\queimadas\\lib\\site-packages\\IPython\\core\\formatters.py:973\u001b[0m, in \u001b[0;36mMimeBundleFormatter.__call__\u001b[1;34m(self, obj, include, exclude)\u001b[0m\n\u001b[0;32m    970\u001b[0m     method \u001b[39m=\u001b[39m get_real_method(obj, \u001b[39mself\u001b[39m\u001b[39m.\u001b[39mprint_method)\n\u001b[0;32m    972\u001b[0m     \u001b[39mif\u001b[39;00m method \u001b[39mis\u001b[39;00m \u001b[39mnot\u001b[39;00m \u001b[39mNone\u001b[39;00m:\n\u001b[1;32m--> 973\u001b[0m         \u001b[39mreturn\u001b[39;00m method(include\u001b[39m=\u001b[39;49minclude, exclude\u001b[39m=\u001b[39;49mexclude)\n\u001b[0;32m    974\u001b[0m     \u001b[39mreturn\u001b[39;00m \u001b[39mNone\u001b[39;00m\n\u001b[0;32m    975\u001b[0m \u001b[39melse\u001b[39;00m:\n",
      "File \u001b[1;32mc:\\ProgramData\\Miniconda3\\envs\\queimadas\\lib\\site-packages\\IPython\\core\\display.py:1022\u001b[0m, in \u001b[0;36mImage._repr_mimebundle_\u001b[1;34m(self, include, exclude)\u001b[0m\n\u001b[0;32m   1020\u001b[0m \u001b[39mif\u001b[39;00m \u001b[39mself\u001b[39m\u001b[39m.\u001b[39membed:\n\u001b[0;32m   1021\u001b[0m     mimetype \u001b[39m=\u001b[39m \u001b[39mself\u001b[39m\u001b[39m.\u001b[39m_mimetype\n\u001b[1;32m-> 1022\u001b[0m     data, metadata \u001b[39m=\u001b[39m \u001b[39mself\u001b[39;49m\u001b[39m.\u001b[39;49m_data_and_metadata(always_both\u001b[39m=\u001b[39;49m\u001b[39mTrue\u001b[39;49;00m)\n\u001b[0;32m   1023\u001b[0m     \u001b[39mif\u001b[39;00m metadata:\n\u001b[0;32m   1024\u001b[0m         metadata \u001b[39m=\u001b[39m {mimetype: metadata}\n",
      "File \u001b[1;32mc:\\ProgramData\\Miniconda3\\envs\\queimadas\\lib\\site-packages\\IPython\\core\\display.py:1034\u001b[0m, in \u001b[0;36mImage._data_and_metadata\u001b[1;34m(self, always_both)\u001b[0m\n\u001b[0;32m   1032\u001b[0m     b64_data \u001b[39m=\u001b[39m b2a_base64(\u001b[39mself\u001b[39m\u001b[39m.\u001b[39mdata)\u001b[39m.\u001b[39mdecode(\u001b[39m'\u001b[39m\u001b[39mascii\u001b[39m\u001b[39m'\u001b[39m)\n\u001b[0;32m   1033\u001b[0m \u001b[39mexcept\u001b[39;00m \u001b[39mTypeError\u001b[39;00m \u001b[39mas\u001b[39;00m e:\n\u001b[1;32m-> 1034\u001b[0m     \u001b[39mraise\u001b[39;00m \u001b[39mFileNotFoundError\u001b[39;00m(\n\u001b[0;32m   1035\u001b[0m         \u001b[39m\"\u001b[39m\u001b[39mNo such file or directory: \u001b[39m\u001b[39m'\u001b[39m\u001b[39m%s\u001b[39;00m\u001b[39m'\u001b[39m\u001b[39m\"\u001b[39m \u001b[39m%\u001b[39m (\u001b[39mself\u001b[39m\u001b[39m.\u001b[39mdata)) \u001b[39mfrom\u001b[39;00m \u001b[39me\u001b[39;00m\n\u001b[0;32m   1036\u001b[0m md \u001b[39m=\u001b[39m {}\n\u001b[0;32m   1037\u001b[0m \u001b[39mif\u001b[39;00m \u001b[39mself\u001b[39m\u001b[39m.\u001b[39mmetadata:\n",
      "\u001b[1;31mFileNotFoundError\u001b[0m: No such file or directory: 'article-prov.png'"
     ]
    },
    {
     "ename": "FileNotFoundError",
     "evalue": "No such file or directory: 'article-prov.png'",
     "output_type": "error",
     "traceback": [
      "\u001b[1;31m---------------------------------------------------------------------------\u001b[0m",
      "\u001b[1;31mTypeError\u001b[0m                                 Traceback (most recent call last)",
      "File \u001b[1;32mc:\\ProgramData\\Miniconda3\\envs\\queimadas\\lib\\site-packages\\IPython\\core\\display.py:1032\u001b[0m, in \u001b[0;36mImage._data_and_metadata\u001b[1;34m(self, always_both)\u001b[0m\n\u001b[0;32m   1031\u001b[0m \u001b[39mtry\u001b[39;00m:\n\u001b[1;32m-> 1032\u001b[0m     b64_data \u001b[39m=\u001b[39m b2a_base64(\u001b[39mself\u001b[39;49m\u001b[39m.\u001b[39;49mdata)\u001b[39m.\u001b[39mdecode(\u001b[39m'\u001b[39m\u001b[39mascii\u001b[39m\u001b[39m'\u001b[39m)\n\u001b[0;32m   1033\u001b[0m \u001b[39mexcept\u001b[39;00m \u001b[39mTypeError\u001b[39;00m \u001b[39mas\u001b[39;00m e:\n",
      "\u001b[1;31mTypeError\u001b[0m: a bytes-like object is required, not 'str'",
      "\nThe above exception was the direct cause of the following exception:\n",
      "\u001b[1;31mFileNotFoundError\u001b[0m                         Traceback (most recent call last)",
      "File \u001b[1;32mc:\\ProgramData\\Miniconda3\\envs\\queimadas\\lib\\site-packages\\IPython\\core\\formatters.py:343\u001b[0m, in \u001b[0;36mBaseFormatter.__call__\u001b[1;34m(self, obj)\u001b[0m\n\u001b[0;32m    341\u001b[0m     method \u001b[39m=\u001b[39m get_real_method(obj, \u001b[39mself\u001b[39m\u001b[39m.\u001b[39mprint_method)\n\u001b[0;32m    342\u001b[0m     \u001b[39mif\u001b[39;00m method \u001b[39mis\u001b[39;00m \u001b[39mnot\u001b[39;00m \u001b[39mNone\u001b[39;00m:\n\u001b[1;32m--> 343\u001b[0m         \u001b[39mreturn\u001b[39;00m method()\n\u001b[0;32m    344\u001b[0m     \u001b[39mreturn\u001b[39;00m \u001b[39mNone\u001b[39;00m\n\u001b[0;32m    345\u001b[0m \u001b[39melse\u001b[39;00m:\n",
      "File \u001b[1;32mc:\\ProgramData\\Miniconda3\\envs\\queimadas\\lib\\site-packages\\IPython\\core\\display.py:1054\u001b[0m, in \u001b[0;36mImage._repr_png_\u001b[1;34m(self)\u001b[0m\n\u001b[0;32m   1052\u001b[0m \u001b[39mdef\u001b[39;00m \u001b[39m_repr_png_\u001b[39m(\u001b[39mself\u001b[39m):\n\u001b[0;32m   1053\u001b[0m     \u001b[39mif\u001b[39;00m \u001b[39mself\u001b[39m\u001b[39m.\u001b[39membed \u001b[39mand\u001b[39;00m \u001b[39mself\u001b[39m\u001b[39m.\u001b[39mformat \u001b[39m==\u001b[39m \u001b[39mself\u001b[39m\u001b[39m.\u001b[39m_FMT_PNG:\n\u001b[1;32m-> 1054\u001b[0m         \u001b[39mreturn\u001b[39;00m \u001b[39mself\u001b[39;49m\u001b[39m.\u001b[39;49m_data_and_metadata()\n",
      "File \u001b[1;32mc:\\ProgramData\\Miniconda3\\envs\\queimadas\\lib\\site-packages\\IPython\\core\\display.py:1034\u001b[0m, in \u001b[0;36mImage._data_and_metadata\u001b[1;34m(self, always_both)\u001b[0m\n\u001b[0;32m   1032\u001b[0m     b64_data \u001b[39m=\u001b[39m b2a_base64(\u001b[39mself\u001b[39m\u001b[39m.\u001b[39mdata)\u001b[39m.\u001b[39mdecode(\u001b[39m'\u001b[39m\u001b[39mascii\u001b[39m\u001b[39m'\u001b[39m)\n\u001b[0;32m   1033\u001b[0m \u001b[39mexcept\u001b[39;00m \u001b[39mTypeError\u001b[39;00m \u001b[39mas\u001b[39;00m e:\n\u001b[1;32m-> 1034\u001b[0m     \u001b[39mraise\u001b[39;00m \u001b[39mFileNotFoundError\u001b[39;00m(\n\u001b[0;32m   1035\u001b[0m         \u001b[39m\"\u001b[39m\u001b[39mNo such file or directory: \u001b[39m\u001b[39m'\u001b[39m\u001b[39m%s\u001b[39;00m\u001b[39m'\u001b[39m\u001b[39m\"\u001b[39m \u001b[39m%\u001b[39m (\u001b[39mself\u001b[39m\u001b[39m.\u001b[39mdata)) \u001b[39mfrom\u001b[39;00m \u001b[39me\u001b[39;00m\n\u001b[0;32m   1036\u001b[0m md \u001b[39m=\u001b[39m {}\n\u001b[0;32m   1037\u001b[0m \u001b[39mif\u001b[39;00m \u001b[39mself\u001b[39m\u001b[39m.\u001b[39mmetadata:\n",
      "\u001b[1;31mFileNotFoundError\u001b[0m: No such file or directory: 'article-prov.png'"
     ]
    },
    {
     "data": {
      "text/plain": [
       "<IPython.core.display.Image object>"
      ]
     },
     "execution_count": 18,
     "metadata": {},
     "output_type": "execute_result"
    }
   ],
   "source": [
    "from IPython.display import Image\n",
    "Image('article-prov.png')"
   ]
  }
 ],
 "metadata": {
  "kernelspec": {
   "display_name": "Python 3.10.6 ('queimadas')",
   "language": "python",
   "name": "python3"
  },
  "language_info": {
   "codemirror_mode": {
    "name": "ipython",
    "version": 3
   },
   "file_extension": ".py",
   "mimetype": "text/x-python",
   "name": "python",
   "nbconvert_exporter": "python",
   "pygments_lexer": "ipython3",
   "version": "3.10.6"
  },
  "orig_nbformat": 4,
  "vscode": {
   "interpreter": {
    "hash": "eaf83c023f7e3e2d224fe3e9fc0f6f2f4a03aa53ff8248dcd7af76a3c140805f"
   }
  }
 },
 "nbformat": 4,
 "nbformat_minor": 2
}
