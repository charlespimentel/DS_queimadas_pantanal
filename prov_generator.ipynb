{
 "cells": [
  {
   "cell_type": "markdown",
   "metadata": {},
   "source": [
    "# Códigos para a geração de dados de proveniência"
   ]
  },
  {
   "cell_type": "markdown",
   "metadata": {},
   "source": [
    "- Notebook para a geração de dados de proveniência utilizando o [prov](https://github.com/trungdong/prov), uma biblioteca para a geração de proveniência em Python. A proveniência é gerada a partir de um arquivo de configuração em formato JSON. O arquivo de configuração contém as informações necessárias para a geração, como o nome do arquivo, o autor, a descrição, a data de criação, entre outros. A biblioteca prov gera um arquivo no formato PROV-JSON, que pode ser visualizado utilizando o [Prov Viewer](https://github.com/gems-uff/prov-viewer).\n",
    "\n",
    "- O arquivo de configuração utilizado para a geração da proveniência pode ser encontrado [aqui]()\n",
    "- O arquivo de proveniência gerado pode ser visualizado [aqui]()\n"
   ]
  },
  {
   "cell_type": "code",
   "execution_count": 1,
   "metadata": {},
   "outputs": [],
   "source": [
    "from prov.model import ProvDocument\n",
    "import datetime\n"
   ]
  },
  {
   "cell_type": "code",
   "execution_count": null,
   "metadata": {},
   "outputs": [],
   "source": [
    "# Criando novo documento de proveniência\n",
    "d1 = ProvDocument()"
   ]
  },
  {
   "cell_type": "code",
   "execution_count": null,
   "metadata": {},
   "outputs": [],
   "source": [
    "# Declarando namespace\n",
    "d1.add_namespace('now', 'https://github.com/charlespimentel/PROJ_QUEIMA_BR/blob/main/Paper_Vs.1.docx/nownews/')\n",
    "# Declarando namespace\n",
    "d1.add_namespace('foaf', 'https://github.com/charlespimentel/PROJ_QUEIMA_BR/blob/main/Paper_Vs.1.docx/nownews/people/')\n",
    "# Declarando namespace\n",
    "d1.add_namespace('art', 'https://github.com/charlespimentel/PROJ_QUEIMA_BR/blob/main/Paper_Vs.1.docx/ns/#')"
   ]
  }
 ],
 "metadata": {
  "kernelspec": {
   "display_name": "Python 3.10.6 ('queimadas')",
   "language": "python",
   "name": "python3"
  },
  "language_info": {
   "codemirror_mode": {
    "name": "ipython",
    "version": 3
   },
   "file_extension": ".py",
   "mimetype": "text/x-python",
   "name": "python",
   "nbconvert_exporter": "python",
   "pygments_lexer": "ipython3",
   "version": "3.10.6"
  },
  "orig_nbformat": 4,
  "vscode": {
   "interpreter": {
    "hash": "eaf83c023f7e3e2d224fe3e9fc0f6f2f4a03aa53ff8248dcd7af76a3c140805f"
   }
  }
 },
 "nbformat": 4,
 "nbformat_minor": 2
}
