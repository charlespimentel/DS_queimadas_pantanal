{
 "cells": [
  {
   "cell_type": "markdown",
   "metadata": {},
   "source": [
    "# Códigos para a geração de dados de proveniência"
   ]
  },
  {
   "cell_type": "markdown",
   "metadata": {},
   "source": [
    "- Notebook para a geração de dados de proveniência utilizando o [prov](https://github.com/trungdong/prov), uma biblioteca para a geração de proveniência em Python. A proveniência é gerada a partir de um arquivo de configuração em formato JSON. O arquivo de configuração contém as informações necessárias para a geração, como o nome do arquivo, o autor, a descrição, a data de criação, entre outros. A biblioteca prov gera um arquivo no formato PROV-JSON, que pode ser visualizado utilizando o [Prov Viewer](https://github.com/gems-uff/prov-viewer).\n",
    "\n",
    "- O arquivo de proveniência gerado pode ser visualizado [aqui]()."
   ]
  },
  {
   "cell_type": "markdown",
   "metadata": {},
   "source": [
    "[![Colab](https://colab.research.google.com/assets/colab-badge.svg)](https://colab.research.google.com/github/charlespimentel/DS_queimadas_pantanal/blob/main/prov_generator.ipynb)\n",
    "> Execute a célula abaixo se estiver usando Google Colab para instalar as dependências necessárias.\n",
    "\n"
   ]
  },
  {
   "cell_type": "code",
   "execution_count": null,
   "metadata": {},
   "outputs": [],
   "source": [
    "# Para rodar este notebook no Google Colab, é necessário fazer o donwload dos arquivos disponibilizados no repositório do GitHub. Para isso, siga os seguintes passos:\n",
    "# 1. Clique no botão \"Open in Colab\"\n",
    "# 2. Execute a célula abaixo para fazer o download dos arquivos\n",
    "\n",
    "# Fazer download dos arquivos do projeto no GitHub\n",
    "!git clone https://github.com/charlespimentel/DS_queimadas_pantanal\n",
    "\n",
    "# Mover todos os aquivos para a pasta raiz\n",
    "!mv DS_queimadas_pantanal/* ."
   ]
  },
  {
   "cell_type": "code",
   "execution_count": 1,
   "metadata": {},
   "outputs": [],
   "source": [
    "from prov.model import ProvDocument\n",
    "import datetime"
   ]
  },
  {
   "cell_type": "code",
   "execution_count": null,
   "metadata": {},
   "outputs": [],
   "source": [
    "# Criando novo documento de proveniência\n",
    "d1 = ProvDocument()"
   ]
  },
  {
   "cell_type": "code",
   "execution_count": null,
   "metadata": {},
   "outputs": [],
   "source": [
    "# Declarando namespace\n",
    "d1.add_namespace('now', 'https://github.com/charlespimentel/DS_queimadas_pantanal/blob/main/artigo_queimadas_pantanal.docx/nownews/')\n",
    "# Declarando namespace\n",
    "d1.add_namespace('foaf', 'https://github.com/charlespimentel/DS_queimadas_pantanal/blob/main/artigo_queimadas_pantanal.docx/nownews/people/')\n",
    "# Declarando namespace\n",
    "d1.add_namespace('art', 'https://github.com/charlespimentel/DS_queimadas_pantanal/blob/main/artigo_queimadas_pantanal.docx/ns/#')"
   ]
  },
  {
   "cell_type": "code",
   "execution_count": null,
   "metadata": {},
   "outputs": [],
   "source": [
    "#Entidade\n",
    "e1 = d1.entity('now:https://github.com/charlespimentel/DS_queimadas_pantanal/blob/main/artigo_queimadas_pantanal.docx')\n",
    "d1.agent('foaf:Isaac, Charles')"
   ]
  },
  {
   "cell_type": "code",
   "execution_count": null,
   "metadata": {},
   "outputs": [],
   "source": [
    "\n",
    "# Atribuindo o artigo ao agente\n",
    "d1.wasAttributedTo(e1, 'foaf:Isaac, Charles')"
   ]
  },
  {
   "cell_type": "code",
   "execution_count": null,
   "metadata": {},
   "outputs": [],
   "source": [
    "# Declarando namespace\n",
    "d1.add_namespace('Lasa', 'https://lasa.ufrj.br/')"
   ]
  },
  {
   "cell_type": "code",
   "execution_count": null,
   "metadata": {},
   "outputs": [],
   "source": [
    "d1.entity( 'Lasa:https://github.com/charlespimentel/DS_queimadas_pantanal/tree/main/Data_Lasa_12_21' ,{'prov:label':'Lasa_12_21','prov: type':'void: Dataset'})"
   ]
  },
  {
   "cell_type": "code",
   "execution_count": null,
   "metadata": {},
   "outputs": [],
   "source": [
    "\n",
    "# Adicionando uma Atividade\n",
    "d1.add_namespace('is', 'https://github.com/charlespimentel/DS_queimadas_pantanal/blob/main/artigo_queimadas_pantanal.docx/is/#')\n",
    "d1.activity('is:writeArticle')"
   ]
  },
  {
   "cell_type": "code",
   "execution_count": null,
   "metadata": {},
   "outputs": [],
   "source": [
    "# Uso e Geração\n",
    "d1.used('is:writeArticle', 'Lasa:https://github.com/charlespimentel/DS_queimadas_pantanal/tree/main/Data_Lasa_12_21')\n",
    "d1.wasGeneratedBy('now:https://github.com/charlespimentel/DS_queimadas_pantanal/blob/main/artigo_queimadas_pantanal.docx', 'is:writeArticle')"
   ]
  },
  {
   "cell_type": "code",
   "execution_count": null,
   "metadata": {},
   "outputs": [],
   "source": [
    "agent    = input(\"Enter the name of the AGENT WHO is running the program: \")        #PROV-Agent\n",
    "entity   = input(\"Enter the name of the ENTITY dataset: \")                          #PROV-Entity\n",
    "activity = input(\"Enter the name of the ACTIVITY: \")                                #PROV-Activity\n",
    "graph = entity"
   ]
  },
  {
   "cell_type": "code",
   "execution_count": null,
   "metadata": {},
   "outputs": [],
   "source": [
    "d1.add_namespace('ufrj', 'http://www.ufrj.br/ppgi/')\n",
    "d1.add_namespace('foaf', 'http://xmlns.com/foaf/0.1/')\n",
    "d1.add_namespace('greco', 'http://www.ufrj.br/ppgi/greco/#')"
   ]
  },
  {
   "cell_type": "code",
   "execution_count": null,
   "metadata": {},
   "outputs": [],
   "source": [
    "# Adicionando Entidade\n",
    "entity = \"ufrj:\"+ entity\n",
    "e1 = d1.entity(entity)\n",
    "\n",
    "# Adicionando Agente\n",
    "agent = \"foaf:\"+ agent\n",
    "d1.agent(agent)\n",
    "\n",
    "# Atribuindo a execução do experimento ao PROV-Agent\n",
    "d1.wasAttributedTo(e1, agent)\n",
    "\n",
    "# Adicionando uma atividade\n",
    "activity = \"greco:\"+ activity\n",
    "d1.activity(activity)\n",
    "\n",
    "# Geração\n",
    "d1.wasGeneratedBy( entity, activity)"
   ]
  },
  {
   "cell_type": "code",
   "execution_count": null,
   "metadata": {},
   "outputs": [],
   "source": [
    "# Adicionando um papel para o PROV-Agent\n",
    "d1.agent(agent, {'prov:hadRole': 'Executor', 'foaf:mbox': '{pimentelufrj,isaac.dcesares}@gmail.com', 'prov:attributedAtTime': str(datetime.datetime.utcnow())})\n",
    "d1.entity(entity, {'prov:generatedAtTime': str(datetime.datetime.utcnow())})"
   ]
  },
  {
   "cell_type": "code",
   "execution_count": null,
   "metadata": {},
   "outputs": [],
   "source": [
    "d1.wasDerivedFrom('now:https://github.com/charlespimentel/DS_queimadas_pantanal/blob/main/artigo_queimadas_pantanal.docx', 'Inpe:https://github.com/charlespimentel/DS_queimadas_pantanal/tree/main/Data_Inpe_12_20','Lasa:https://github.com/charlespimentel/DS_queimadas_pantanal/tree/main/Data_Lasa_12_21')"
   ]
  },
  {
   "cell_type": "code",
   "execution_count": null,
   "metadata": {},
   "outputs": [],
   "source": [
    "# O que temos até agora (in PROV-N)\n",
    "print(d1.get_provn())"
   ]
  },
  {
   "cell_type": "code",
   "execution_count": null,
   "metadata": {},
   "outputs": [],
   "source": [
    "from prov.dot import prov_to_dot\n",
    "dot = prov_to_dot(d1)\n",
    "graph = graph +\".png\"\n",
    "dot.write_png('article-prov.png')"
   ]
  },
  {
   "cell_type": "code",
   "execution_count": null,
   "metadata": {},
   "outputs": [],
   "source": [
    "\n",
    "from IPython.display import Image\n",
    "Image('article-prov.png')"
   ]
  }
 ],
 "metadata": {
  "kernelspec": {
   "display_name": "Python 3.10.6 ('queimadas')",
   "language": "python",
   "name": "python3"
  },
  "language_info": {
   "codemirror_mode": {
    "name": "ipython",
    "version": 3
   },
   "file_extension": ".py",
   "mimetype": "text/x-python",
   "name": "python",
   "nbconvert_exporter": "python",
   "pygments_lexer": "ipython3",
   "version": "3.10.6"
  },
  "orig_nbformat": 4,
  "vscode": {
   "interpreter": {
    "hash": "eaf83c023f7e3e2d224fe3e9fc0f6f2f4a03aa53ff8248dcd7af76a3c140805f"
   }
  }
 },
 "nbformat": 4,
 "nbformat_minor": 2
}
